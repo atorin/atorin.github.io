{
 "cells": [
  {
   "cell_type": "markdown",
   "metadata": {},
   "source": [
    "This post is adapted from a [lecture](https://github.com/atorin/Dynamics3-Lecture) I gave on multiple degree-of-freedom systems (arrays of masses and springs) and their connection with ideal strings. Here's a brief outline:"
   ]
  },
  {
   "cell_type": "markdown",
   "metadata": {
    "slideshow": {
     "slide_type": "slide"
    }
   },
   "source": [
    "## Outline\n",
    "\n",
    "#### Multiple degree-of-freedom systems\n",
    "---\n",
    "- Equations of motion\n",
    "- Simple example\n",
    "- Normal modes and frequencies\n",
    "\n",
    "<!-- TEASER_END -->"
   ]
  },
  {
   "cell_type": "markdown",
   "metadata": {
    "slideshow": {
     "slide_type": "slide"
    }
   },
   "source": [
    "# Multiple degree-of-freedom systems"
   ]
  },
  {
   "cell_type": "markdown",
   "metadata": {
    "slideshow": {
     "slide_type": "slide"
    }
   },
   "source": [
    "## Mass-spring system with N DOFs\n",
    "\n",
    "Consider an array of $N$ masses connected by $N+1$ springs, as in the following figure.\n",
    "\n",
    "![](https://github.com/atorin/Dynamics3-Lecture/raw/master/files/masses.png)\n",
    "\n",
    "We wish to calculate the equation of motion of the system and do some experiments with it."
   ]
  },
  {
   "cell_type": "markdown",
   "metadata": {
    "slideshow": {
     "slide_type": "slide"
    }
   },
   "source": [
    "## Deriving the equations of motion\n",
    "\n",
    "A very elegant approach to the solution of this problem is discussed by __Prof. Gilbert Strang__ in one of his classes for the \"Computational Science and Engineering I\" course, available online at this link:\n",
    "\n",
    "http://www.courses.com/massachusetts-institute-of-technology/computational-science-and-engineering-i/2\n",
    "\n",
    "The idea is to start from the individual positions of the masses, link those to the elongations of the springs, which in turn give rise to forces determined by Hooke's law. These can then be related to the total force acting on each mass and eventually to their acceleration. \n",
    "\n",
    "Here's a diagram:\n",
    "\n",
    "$$\\vec{u} \\rightarrow \\vec{e} \\rightarrow \\vec{f} \\rightarrow \\vec{F} \\rightarrow \\ddot{\\vec{u}}$$\n",
    "\n",
    "When all the quantities are expressed as vectors, each arrow in the previous chain can be thought of as a matrix...\n",
    "\n",
    "In order to make things more concrete, consider 4 masses and 5 springs, but the argument can easily be generalised.\n",
    "\n",
    "![Array of 4 masses and 5 springs](https://github.com/atorin/Dynamics3-Lecture/raw/master/files/4masses.png)"
   ]
  },
  {
   "cell_type": "markdown",
   "metadata": {
    "slideshow": {
     "slide_type": "subslide"
    }
   },
   "source": [
    "### 1. Elongations of the springs, $\\vec{u} \\rightarrow \\vec{e}$\n",
    "\n",
    "![](https://github.com/atorin/Dynamics3-Lecture/raw/master/files/masses_eu.png)\n",
    "\n",
    "When the first mass moves by $u_1$, the first spring stretches by the same amount: $e_1 = u_1$. \n",
    "(Note that if $u_1$ < 0, the \"stretch\" is negative, and the spring is actually compressed!)\n",
    "\n",
    "As for the second spring, the elongation $e_2$ can be written as $e_2 = u_2 - u_1$. A similar argument can be used for $k_3$ and $k_4$.\n",
    "\n",
    "For the last spring, $k_5$, a positive displacement of the mass $m_4$ is associated with a negative elongation of the spring. Hence, $e_5 = -u_4$.\n",
    "\n",
    "Putting everything in matrix form, one can write:\n",
    "\n",
    "$$ \\vec{e} = \\left[\\begin{array}{cccc} 1 & 0 & 0 & 0\\\\ \n",
    "-1 & 1 & 0 & 0 \\\\ \n",
    "0 & -1 & 1 & 0 \\\\\n",
    "0 & 0 & -1 & 1\\\\\n",
    "0 & 0 & 0 & -1\\end{array} \\right] \\vec{u} \\equiv A \\vec{u}, $$\n",
    "\n",
    "where the matrix $A$ is rectangular (5x4). "
   ]
  },
  {
   "cell_type": "markdown",
   "metadata": {
    "slideshow": {
     "slide_type": "subslide"
    }
   },
   "source": [
    "### 2. Hooke's law, $\\vec{e} \\rightarrow \\vec{f}$\n",
    "\n",
    "The next step consists in relating the elongations to the forces acting on the masses. This is easily accomplished with the help of Hooke's law: for each elongation $e_j$, a recall force $f_j$ proportional to $e_j$ is generated. Mathematically, \n",
    "\n",
    "$$f_j = - k_j e_j, $$\n",
    "\n",
    "where $k_j$ is the stiffness constant of the $j$-th spring. \n",
    "\n",
    "\n",
    "In matrix form, this becomes\n",
    "\n",
    "$$\\vec{f} = - C \\,\\vec{e}, \\qquad C = \\left[\\begin{array}{ccccc}\n",
    "k_1 & 0 & 0 & 0 & 0 \\\\ \n",
    "0 & k_2 & 1 & 0 & 0 \\\\\n",
    "0 & 0 & k_3 & 0 & 0 \\\\\n",
    "0 & 0 & 0 & k_4 & 0 \\\\\n",
    "0 & 0 & 0 & 0 & k_5 \\\\\n",
    "\\end{array} \\right] $$\n",
    "\n",
    "where $C$ is the diagonal square matrix (5x5) of the stiffness coefficients. "
   ]
  },
  {
   "cell_type": "markdown",
   "metadata": {
    "slideshow": {
     "slide_type": "subslide"
    }
   },
   "source": [
    "### 3. Resultant force, $\\,\\vec{f} \\rightarrow \\vec{F}$\n",
    "\n",
    "![](https://github.com/atorin/Dynamics3-Lecture/raw/master/files/masses_fF.png)\n",
    "\n",
    "Now, we can calculate the resultant forces by summing the vectors of the individual spring forces acting on each mass. For $m_1$ we have \n",
    "\n",
    "$$F_1 = f_1 - f_2, $$\n",
    "\n",
    "where the minus sign before $f_2$ depends on the sign of the elongation $e_2$. \n",
    "\n",
    "You can easily see where this is going once we switch to matrix notation:\n",
    "\n",
    "$$\\vec{F} = \\left[\\begin{array}{ccccc} 1 & -1 & 0 & 0 & 0\\\\ \n",
    "0 & 1 & -1 & 0 & 0 \\\\ \n",
    "0 & 0 & 1 & -1 & 0 \\\\\n",
    "0 & 0 & 0 & 1 & -1 \\end{array} \\right] \\, \\vec{f} = A^T \\vec{f} .$$\n",
    "\n",
    "The interesting fact here is that the matrix we obtain is exactly the transpose of the elongation matrix $A$!"
   ]
  },
  {
   "cell_type": "markdown",
   "metadata": {
    "slideshow": {
     "slide_type": "subslide"
    }
   },
   "source": [
    "### 4. Newton's law,  $\\,\\vec{F} \\rightarrow \\ddot{\\vec{u}}$\n",
    "\n",
    "Each resultant force $F_j$ can be related to the acceleration $\\ddot{u}_j$ of the $j$-th mass via Newton's second law,\n",
    "\n",
    "$$F_j = m_j \\ddot{u}_j. $$\n",
    "\n",
    "In matrix form,\n",
    "\n",
    "$$ \\vec{F} = M \\ddot{\\vec{u}}, \\qquad M = \\left[\\begin{array}{cccc}\n",
    "m_1 & 0 & 0 & 0 \\\\ \n",
    "0 & m_2 & 1 & 0 \\\\\n",
    "0 & 0 & m_3 & 0 \\\\\n",
    "0 & 0 & 0 & m_4\n",
    "\\end{array} \\right] . $$"
   ]
  },
  {
   "cell_type": "markdown",
   "metadata": {
    "slideshow": {
     "slide_type": "subslide"
    }
   },
   "source": [
    "### Putting everything together, ${\\vec{u} \\rightarrow \\vec{e}} \\rightarrow \\vec{f} \\rightarrow \\vec{F} \\rightarrow \\ddot{\\vec{u}}$\n",
    "\n",
    "After all these perambulations, we can finally write the equations for the whole system by combining all the previous steps backwards. Hence... \n",
    "\n",
    "$$M \\ddot{\\vec{u}} = \\vec{F} = A^T \\vec{f} = -A^T C \\, \\vec{e} = -A^T C\\, A\\, \\vec{u} .$$\n",
    "\n",
    "We can rewrite this in a more familiar form as\n",
    "\n",
    "$$ M \\ddot{\\vec{u}} = -K \\vec{u}, \\qquad K \\equiv A^T C A .$$"
   ]
  },
  {
   "cell_type": "markdown",
   "metadata": {
    "slideshow": {
     "slide_type": "slide"
    }
   },
   "source": [
    "## A simple example\n",
    "\n",
    "Suppose now that all the oscillators have the same mass $m$ and that all springs have the same stiffness coefficient $k$. The above equation simplifies to\n",
    "\n",
    "$$ \\ddot{\\vec{u}} = -\\omega^2 A^T A \\vec{u}, \\qquad \\omega^2 = k/m .$$\n",
    "\n",
    "So, accelerations and positions are related by the symmetric matrix $A^T A$... but how does this matrix look like?"
   ]
  },
  {
   "cell_type": "markdown",
   "metadata": {
    "slideshow": {
     "slide_type": "subslide"
    }
   },
   "source": [
    "### Let's do the math in Matlab"
   ]
  },
  {
   "cell_type": "code",
   "execution_count": 1,
   "metadata": {
    "collapsed": false
   },
   "outputs": [
    {
     "data": {
      "text/plain": [
       "A =\n",
       "\n",
       "     1     0     0     0\n",
       "    -1     1     0     0\n",
       "     0    -1     1     0\n",
       "     0     0    -1     1\n",
       "     0     0     0    -1\n",
       "\n",
       "\n",
       "AT =\n",
       "\n",
       "     1    -1     0     0     0\n",
       "     0     1    -1     0     0\n",
       "     0     0     1    -1     0\n",
       "     0     0     0     1    -1\n",
       "\n",
       "\n",
       "D =\n",
       "\n",
       "     2    -1     0     0\n",
       "    -1     2    -1     0\n",
       "     0    -1     2    -1\n",
       "     0     0    -1     2"
      ]
     },
     "execution_count": 1,
     "metadata": {},
     "output_type": "execute_result"
    }
   ],
   "source": [
    "A = [1 0 0 0; -1 1 0 0; 0 -1 1 0; 0 0 -1 1; 0 0 0 -1]\n",
    "AT = A'\n",
    "D = AT * A"
   ]
  },
  {
   "cell_type": "markdown",
   "metadata": {
    "slideshow": {
     "slide_type": "subslide"
    }
   },
   "source": [
    "The product of the two matrices $A^T A$ is:\n",
    "\n",
    "$$ D = \\left[\\begin{array}{cccc} 2 & -1 & 0 & 0\\\\ \n",
    "-1 & 2 & -1 & 0 \\\\ \n",
    "0 & -1 & 2 & -1 \\\\\n",
    "0 & 0 & -1 & 2 \\end{array} \\right]$$\n",
    "\n",
    "The matrix $D$, or better its negative counterpart, is particularly important in finite difference applications, as we will see shortly. For the moment, let's investigate the <span class=\"red\">eigenvalues and eigenvectors</span>."
   ]
  },
  {
   "cell_type": "markdown",
   "metadata": {
    "slideshow": {
     "slide_type": "slide"
    }
   },
   "source": [
    "## Eigenvalues and eigenvectors\n",
    "\n",
    "Suppose we know that a solution of $\\ddot{\\vec{u}} = -\\omega^2 D \\vec{u}$ can be written in this form:\n",
    "\n",
    "$$ \\vec{u}(t) = \\vec{U} \\sin(\\Omega t + \\phi),$$\n",
    "\n",
    "where $\\vec{U}$ is some constant vector, $\\Omega$ a non-negative frequency and $\\phi$ the phase. \n",
    "\n",
    "Then, the differential equation becomes an eigenvector problem, \n",
    "\n",
    "$$\\Omega^2 \\vec{U} = \\omega^2 D \\vec{U}.$$"
   ]
  },
  {
   "cell_type": "markdown",
   "metadata": {
    "slideshow": {
     "slide_type": "subslide"
    }
   },
   "source": [
    "This can be easily solved numerically:"
   ]
  },
  {
   "cell_type": "code",
   "execution_count": 2,
   "metadata": {
    "collapsed": false,
    "slideshow": {
     "slide_type": "-"
    }
   },
   "outputs": [
    {
     "data": {
      "text/plain": [
       "V =\n",
       "\n",
       "    0.3717   -0.6015   -0.6015   -0.3717\n",
       "    0.6015   -0.3717    0.3717    0.6015\n",
       "    0.6015    0.3717    0.3717   -0.6015\n",
       "    0.3717    0.6015   -0.6015    0.3717\n",
       "\n",
       "\n",
       "E =\n",
       "\n",
       "    0.3820         0         0         0\n",
       "         0    1.3820         0         0\n",
       "         0         0    2.6180         0\n",
       "         0         0         0    3.6180"
      ]
     },
     "execution_count": 2,
     "metadata": {},
     "output_type": "execute_result"
    }
   ],
   "source": [
    "[V,E] = eig(D)"
   ]
  },
  {
   "cell_type": "markdown",
   "metadata": {
    "slideshow": {
     "slide_type": "subslide"
    }
   },
   "source": [
    "### Add extra immobile masses at the edges\n",
    "\n",
    "Imagine that we have two extra masses, $m_0$ and $m_5$, at the edges of the system, held fixed by some invisible agent. These replace the walls and do not change the results, but make the following figures nicer!\n",
    "\n",
    "Jokes apart, the fixed masses correspond to the boundary conditions that we are implicitly applying to the array.\n",
    "\n",
    "![](https://github.com/atorin/Dynamics3-Lecture/raw/master/files/fixed_masses.png)"
   ]
  },
  {
   "cell_type": "code",
   "execution_count": 3,
   "metadata": {
    "collapsed": false,
    "slideshow": {
     "slide_type": "subslide"
    }
   },
   "outputs": [
    {
     "data": {
      "text/plain": [
       "V =\n",
       "\n",
       "         0         0         0         0\n",
       "    0.3717   -0.6015   -0.6015   -0.3717\n",
       "    0.6015   -0.3717    0.3717    0.6015\n",
       "    0.6015    0.3717    0.3717   -0.6015\n",
       "    0.3717    0.6015   -0.6015    0.3717\n",
       "         0         0         0         0"
      ]
     },
     "execution_count": 3,
     "metadata": {},
     "output_type": "execute_result"
    }
   ],
   "source": [
    "V = [zeros(1,4); V; zeros(1,4)]"
   ]
  },
  {
   "cell_type": "markdown",
   "metadata": {
    "slideshow": {
     "slide_type": "slide"
    }
   },
   "source": [
    "## Plot the modal shapes\n",
    "\n",
    "After these manipulations, it is simple to plot the four eigenvectors."
   ]
  },
  {
   "cell_type": "code",
   "execution_count": 4,
   "metadata": {
    "collapsed": false,
    "slideshow": {
     "slide_type": "subslide"
    }
   },
   "outputs": [
    {
     "data": {
      "image/png": "[encoded data removed]",
      "text/plain": [
       "<IPython.core.display.Image object>"
      ]
     },
     "metadata": {},
     "output_type": "display_data"
    }
   ],
   "source": [
    "for II=1:4\n",
    "subplot(2,2,II)\n",
    "plot(0:5, V(:,II), '.k', 'markersize', 22)\n",
    "title(['Mode n. ', num2str(II, '%d')])\n",
    "xlim([0, 5])\n",
    "end"
   ]
  },
  {
   "cell_type": "markdown",
   "metadata": {
    "slideshow": {
     "slide_type": "subslide"
    }
   },
   "source": [
    "The modes of this system look suspiciously similar to those of a linear string... Let's see what happens when we increase the number of masses.\n",
    "\n",
    "First, however, we need a way to generalise the creation of the matrix $D$ to $N$ masses..."
   ]
  },
  {
   "cell_type": "code",
   "execution_count": 5,
   "metadata": {
    "collapsed": false,
    "slideshow": {
     "slide_type": "-"
    }
   },
   "outputs": [
    {
     "data": {
      "text/plain": [
       "createTridiag = \n",
       "\n",
       "    @(N)(full(spdiags([-ones(N,1),2*ones(N,1),-ones(N,1)],-1:1,N,N)))"
      ]
     },
     "execution_count": 5,
     "metadata": {},
     "output_type": "execute_result"
    }
   ],
   "source": [
    "createTridiag = @(N)(full(spdiags(...\n",
    "        [-ones(N,1), 2*ones(N,1), -ones(N,1)], -1:1, N, N)))"
   ]
  },
  {
   "cell_type": "markdown",
   "metadata": {
    "slideshow": {
     "slide_type": "subslide"
    }
   },
   "source": [
    "Then, test this function for $N = 10$."
   ]
  },
  {
   "cell_type": "code",
   "execution_count": 6,
   "metadata": {
    "collapsed": false,
    "slideshow": {
     "slide_type": "-"
    }
   },
   "outputs": [
    {
     "data": {
      "text/plain": [
       "D10 =\n",
       "\n",
       "     2    -1     0     0     0     0     0     0     0     0\n",
       "    -1     2    -1     0     0     0     0     0     0     0\n",
       "     0    -1     2    -1     0     0     0     0     0     0\n",
       "     0     0    -1     2    -1     0     0     0     0     0\n",
       "     0     0     0    -1     2    -1     0     0     0     0\n",
       "     0     0     0     0    -1     2    -1     0     0     0\n",
       "     0     0     0     0     0    -1     2    -1     0     0\n",
       "     0     0     0     0     0     0    -1     2    -1     0\n",
       "     0     0     0     0     0     0     0    -1     2    -1\n",
       "     0     0     0     0     0     0     0     0    -1     2"
      ]
     },
     "execution_count": 6,
     "metadata": {},
     "output_type": "execute_result"
    }
   ],
   "source": [
    "N = 10;\n",
    "D10 = createTridiag(N)"
   ]
  },
  {
   "cell_type": "markdown",
   "metadata": {
    "slideshow": {
     "slide_type": "slide"
    }
   },
   "source": [
    "### Array with 10 DOFs\n",
    "\n",
    "Create the eigenvectors and add the fixed masses."
   ]
  },
  {
   "cell_type": "code",
   "execution_count": 7,
   "metadata": {
    "collapsed": false
   },
   "outputs": [],
   "source": [
    "[V10,E10] = eig(D10);\n",
    "V10 = [zeros(1,N); V10; zeros(1,N)];"
   ]
  },
  {
   "cell_type": "markdown",
   "metadata": {
    "slideshow": {
     "slide_type": "fragment"
    }
   },
   "source": [
    "... then plot the modes!"
   ]
  },
  {
   "cell_type": "code",
   "execution_count": 8,
   "metadata": {
    "collapsed": false,
    "slideshow": {
     "slide_type": "subslide"
    }
   },
   "outputs": [
    {
     "data": {
      "image/png": "[encoded data removed]",
      "text/plain": [
       "<IPython.core.display.Image object>"
      ]
     },
     "metadata": {},
     "output_type": "display_data"
    }
   ],
   "source": [
    "for II=1:4\n",
    "subplot(2,2,II)\n",
    "plot(0:N+1, V10(:,II), '.k', 'markersize', 22)\n",
    "title(['Mode n. ', num2str(II, '%d')])\n",
    "xlim([0, N+1])\n",
    "end"
   ]
  },
  {
   "cell_type": "markdown",
   "metadata": {
    "slideshow": {
     "slide_type": "slide"
    }
   },
   "source": [
    "### Array with 50 DOFs\n",
    "\n",
    "Again, create the matrix $D$, calculate the eigenvectors and add the fixed masses."
   ]
  },
  {
   "cell_type": "code",
   "execution_count": 9,
   "metadata": {
    "collapsed": true
   },
   "outputs": [],
   "source": [
    "N = 50;\n",
    "D50 = createTridiag(N);\n",
    "[V50,E50] = eig(D50);\n",
    "V50 = [zeros(1,N); V50; zeros(1,N)];"
   ]
  },
  {
   "cell_type": "markdown",
   "metadata": {
    "slideshow": {
     "slide_type": "fragment"
    }
   },
   "source": [
    "... then plot the modes!"
   ]
  },
  {
   "cell_type": "code",
   "execution_count": 10,
   "metadata": {
    "collapsed": false,
    "slideshow": {
     "slide_type": "subslide"
    }
   },
   "outputs": [
    {
     "data": {
      "image/png": "[encoded data removed]",
      "text/plain": [
       "<IPython.core.display.Image object>"
      ]
     },
     "metadata": {},
     "output_type": "display_data"
    }
   ],
   "source": [
    "for II=1:4\n",
    "subplot(2,2,II)\n",
    "plot(0:N+1, V50(:,II), '.k', 'markersize', 20)\n",
    "title(['Mode n. ', num2str(II, '%d')])\n",
    "xlim([0, N+1])\n",
    "end"
   ]
  },
  {
   "cell_type": "markdown",
   "metadata": {
    "slideshow": {
     "slide_type": "slide"
    }
   },
   "source": [
    "## Results\n",
    "\n",
    "The modal shapes of the array of masses and springs are sinusoids, similarly to what happens for the standing waves in ideal strings (see, e.g., [Wikipedia](https://en.wikipedia.org/wiki/String_vibration)).\n",
    "\n",
    "A lengthy calculation can also be performed to check this fact. Some help on how to proceed can be found in Lecture 5 of [this course](http://www.physics.usu.edu/riffe/3750/lecture_notes.htm) on Wave Phenomena. That gives also more information on the mathematical details of this topic. "
   ]
  },
  {
   "cell_type": "markdown",
   "metadata": {
    "slideshow": {
     "slide_type": "subslide"
    }
   },
   "source": [
    "### Important comment\n",
    "\n",
    "\n",
    "For a string, the vibration is transverse to the length of the string itself. In the case of the mass-spring system, the vibrations are longitudinal, along the chain of oscillators. This can be seen in the following videos, that compare transverse and longitudinal modes for the lowest frequencies."
   ]
  },
  {
   "cell_type": "markdown",
   "metadata": {
    "collapsed": false,
    "slideshow": {
     "slide_type": "subslide"
    }
   },
   "source": [
    "<video style=\"display:block; margin: 0 auto;\" width=\"100%\" controls loop>\n",
    "  <source src=\"http://www.albertotorin.it/dynamics3/N15_mode1.mp4\" type=\"video/mp4\">\n",
    "</video>"
   ]
  },
  {
   "cell_type": "markdown",
   "metadata": {
    "collapsed": false,
    "slideshow": {
     "slide_type": "subslide"
    }
   },
   "source": [
    "<video style=\"display:block; margin: 0 auto;\" width=\"100%\" controls loop>\n",
    "  <source src=\"http://www.albertotorin.it/dynamics3/N15_mode2.mp4\" type=\"video/mp4\">\n",
    "</video>"
   ]
  },
  {
   "cell_type": "markdown",
   "metadata": {
    "collapsed": false,
    "slideshow": {
     "slide_type": "subslide"
    }
   },
   "source": [
    "<video style=\"display:block; margin: 0 auto;\" width=\"100%\" controls loop>\n",
    "  <source src=\"http://www.albertotorin.it/dynamics3/N15_mode3.mp4\" type=\"video/mp4\">\n",
    "</video>"
   ]
  },
  {
   "cell_type": "markdown",
   "metadata": {
    "collapsed": false,
    "slideshow": {
     "slide_type": "subslide"
    }
   },
   "source": [
    "<video style=\"display:block; margin: 0 auto;\" width=\"100%\" controls loop>\n",
    "  <source src=\"http://www.albertotorin.it/dynamics3/N15_mode4.mp4\" type=\"video/mp4\">\n",
    "</video>"
   ]
  },
  {
   "cell_type": "markdown",
   "metadata": {
    "slideshow": {
     "slide_type": "slide"
    }
   },
   "source": [
    "## Frequencies of vibration\n",
    "\n",
    "From the eigenvalue equation $\\, \\Omega^2 \\vec{U} = \\omega^2 D \\vec{U}, \\,$ it is possible to write the frequencies of the MDoF system as\n",
    "\n",
    "$$\\frac{\\Omega}{2\\pi} = \\frac{\\omega}{2\\pi} \\sqrt{\\text{eig}(D)}.$$ \n",
    "\n",
    "As is well known, the frequencies for the string follow the harmonic series. Hence, higher modes have frequencies that are integer multiples of the fundamental. \n",
    "\n",
    "What happens for the mass-spring array?"
   ]
  },
  {
   "cell_type": "markdown",
   "metadata": {
    "slideshow": {
     "slide_type": "subslide"
    }
   },
   "source": [
    "#### Find eigenvalues for N=30 and N=50"
   ]
  },
  {
   "cell_type": "code",
   "execution_count": 11,
   "metadata": {
    "collapsed": true,
    "slideshow": {
     "slide_type": "-"
    }
   },
   "outputs": [],
   "source": [
    "[V30, E30] = eig(createTridiag(30));\n",
    "[V50, E50] = eig(createTridiag(50));"
   ]
  },
  {
   "cell_type": "markdown",
   "metadata": {
    "slideshow": {
     "slide_type": "fragment"
    }
   },
   "source": [
    "#### ... then normalise and sqrt"
   ]
  },
  {
   "cell_type": "code",
   "execution_count": 12,
   "metadata": {
    "collapsed": true
   },
   "outputs": [],
   "source": [
    "ev30 = diag(E30); \n",
    "ev50 = diag(E50);\n",
    "y30 = sqrt(ev30/ev30(1)); \n",
    "y50 = sqrt(ev50/ev50(1));"
   ]
  },
  {
   "cell_type": "markdown",
   "metadata": {},
   "source": [
    "Now, it is possible to plot the ratio $\\Omega/\\Omega_1$, where $\\Omega_1$ is the frequency of the first mode, as a function of the mode number, and compare it with the straight line of the harmonic series of the string. "
   ]
  },
  {
   "cell_type": "code",
   "execution_count": 13,
   "metadata": {
    "collapsed": false
   },
   "outputs": [
    {
     "data": {
      "image/png": "[encoded data removed]",
      "text/plain": [
       "<IPython.core.display.Image object>"
      ]
     },
     "metadata": {},
     "output_type": "display_data"
    }
   ],
   "source": [
    "plot(y30,'.','markersize',20), hold on\n",
    "plot(y50,'.','markersize',20), \n",
    "plot(1:50, 'k'), xlim([0, 50]), \n",
    "hold off\n",
    "ylabel('\\Omega/\\Omega_1'), xlabel('Mode')\n",
    "legend('N=30', 'N=50', 'String', 'location', 'best')"
   ]
  },
  {
   "cell_type": "code",
   "execution_count": 14,
   "metadata": {
    "collapsed": false,
    "slideshow": {
     "slide_type": "subslide"
    }
   },
   "outputs": [
    {
     "data": {
      "image/png": "[encoded data removed]",
      "text/plain": [
       "<IPython.core.display.Image object>"
      ]
     },
     "metadata": {},
     "output_type": "display_data"
    }
   ],
   "source": [
    "plot(y30,'.','markersize',20), hold on\n",
    "plot(y50,'.','markersize',20), \n",
    "plot(1:50, 'k'), xlim([0, 15]), \n",
    "hold off\n",
    "ylabel('\\Omega/\\Omega_1'), xlabel('Mode'), \n",
    "legend('N=30', 'N=50', 'String', 'location', 'best')"
   ]
  },
  {
   "cell_type": "markdown",
   "metadata": {},
   "source": [
    "As is apparent, the frequencies for the MDoF system do not follow those of a string. They are close for the first modes, but get increasingly warped in the higher range. \n",
    "\n",
    "This fact has some deep implications in the context of finite difference simulations. As anticipated, the matrix $D$ is related to the second difference operator. When this is applied to a grid function, the simulated frequencies of the higher modes will always be lower than the theoretical ones! "
   ]
  },
  {
   "cell_type": "markdown",
   "metadata": {
    "slideshow": {
     "slide_type": "slide"
    }
   },
   "source": [
    "## Key points\n",
    "\n",
    "- The modal shapes of the multiple degree-of-freedom system are the same as those of a string (sinusoidal standing waves).\n",
    "\n",
    "- The frequencies of the oscillators are always \"detuned\" with respect to those of a string. The warping is almost negligible for the first modes, but becomes increasingly higher for the upper modes.\n"
   ]
  }
 ],
 "metadata": {
  "kernelspec": {
   "display_name": "Matlab",
   "language": "matlab",
   "name": "matlab_kernel"
  },
  "language_info": {
   "codemirror_mode": "Octave",
   "file_extension": ".m",
   "help_links": [
    {
     "text": "MetaKernel Magics",
     "url": "https://github.com/calysto/metakernel/blob/master/metakernel/magics/README.md"
    }
   ],
   "mimetype": "text/x-matlab",
   "name": "octave"
  },
  "nikola": {
   "category": "",
   "date": "2017-03-24 15:00:00 UTC+01:00",
   "description": "",
   "link": "",
   "slug": "mdof-systems",
   "tags": "jupyter, matlab, sho, string, oscillator",
   "title": "Multiple degree-of-freedom systems and ideal strings",
   "type": "text"
  }
 },
 "nbformat": 4,
 "nbformat_minor": 0
}
